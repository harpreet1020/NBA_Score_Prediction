{
 "cells": [
  {
   "cell_type": "code",
   "execution_count": null,
   "metadata": {},
   "outputs": [],
   "source": [
    "import numpy as np\n",
    "import pandas as pd "
   ]
  },
  {
   "cell_type": "markdown",
   "metadata": {},
   "source": [
    "## Get Team IDs \n"
   ]
  },
  {
   "cell_type": "code",
   "execution_count": null,
   "metadata": {},
   "outputs": [],
   "source": [
    "from nba_api.stats.static import teams\n",
    "\n",
    "# get_teams returns a list of 30 dictionaries, each an NBA team.\n",
    "nba_teams = teams.get_teams()\n",
    "\n",
    "# create pandas DataFrame from nba_teams with columns id, abbreviation\n",
    "team_id = pd.DataFrame.from_dict(nba_teams)\n",
    "team_id = team_id[['id', 'abbreviation']]\n",
    "\n",
    "team_id.head()"
   ]
  },
  {
   "cell_type": "markdown",
   "metadata": {},
   "source": [
    "## Get individual Team Game Log"
   ]
  },
  {
   "cell_type": "code",
   "execution_count": null,
   "metadata": {},
   "outputs": [],
   "source": [
    "from nba_api.stats.endpoints import teamgamelog\n",
    "\n",
    "# Pistons \n",
    "gamelog = teamgamelog.TeamGameLog(season_all= '2018-19', season_type_all_star='Regular Season', team_id = team_id.loc[28, 'id'])\n"
   ]
  },
  {
   "cell_type": "code",
   "execution_count": null,
   "metadata": {},
   "outputs": [],
   "source": [
    "# Get DataFrames \n",
    "data = gamelog.get_data_frames()[0]\n",
    "data.head(10)"
   ]
  },
  {
   "cell_type": "markdown",
   "metadata": {},
   "source": [
    "## Get Game Logs for every team 2018-19"
   ]
  },
  {
   "cell_type": "code",
   "execution_count": null,
   "metadata": {
    "scrolled": true
   },
   "outputs": [],
   "source": [
    "df_dict = {}\n",
    "for team_id in team_id['id']:\n",
    "    data = teamgamelog.TeamGameLog(season_all='2018-19', season_type_all_star='Regular Season', team_id = team_id, timeout=400).get_data_frames()[0]\n",
    "    df_dict.update({team_id : data})\n",
    "    "
   ]
  },
  {
   "cell_type": "code",
   "execution_count": null,
   "metadata": {},
   "outputs": [],
   "source": [
    "# Check Type\n",
    "print(type(df_dict))\n",
    "\n",
    "# Check length of df_dict to make sure there is data for each team\n",
    "print(len(df_dict.keys()))"
   ]
  },
  {
   "cell_type": "markdown",
   "metadata": {},
   "source": [
    "## Deconstruct Dictionary "
   ]
  },
  {
   "cell_type": "code",
   "execution_count": null,
   "metadata": {},
   "outputs": [],
   "source": [
    "# Deconstruct dictionary to individual dataframes for each team\n",
    "\n",
    "dictget = lambda df_dict, *k: [df_dict[i] for i in k]"
   ]
  },
  {
   "cell_type": "code",
   "execution_count": null,
   "metadata": {},
   "outputs": [],
   "source": [
    "# Deconstruct dictionary by team_id and assign it to each teams respective abbreviation\n",
    "ATL, BOS, CLE, NOP, CHI, DAL, \\\n",
    "DEN, GSW, HOU, LAC, LAL, MIA, \\\n",
    "MIL, MIN, BKN, NYK, ORL, IND, \\\n",
    "PHI, PHX, POR, SAC, SAS, OKC, \\\n",
    "TOR, UTA, MEM, WAS, DET, CHA  = dictget(df_dict, \\\n",
    "                                        1610612737, 1610612738, 1610612739, 1610612740, 1610612741, \\\n",
    "                                        1610612742, 1610612743, 1610612744, 1610612745, 1610612746, \\\n",
    "                                        1610612747, 1610612748, 1610612749, 1610612750, 1610612751, \\\n",
    "                                        1610612752, 1610612753, 1610612754, 1610612755, 1610612756, \\\n",
    "                                        1610612757, 1610612758, 1610612759, 1610612760, 1610612761, \\\n",
    "                                        1610612762, 1610612763, 1610612764, 1610612765, 1610612766)\n",
    "\n",
    "\n",
    "\n"
   ]
  },
  {
   "cell_type": "code",
   "execution_count": null,
   "metadata": {},
   "outputs": [],
   "source": [
    "print(type(ATL))\n",
    "ATL.head()"
   ]
  },
  {
   "cell_type": "code",
   "execution_count": null,
   "metadata": {},
   "outputs": [],
   "source": [
    "print(type(BOS))\n",
    "BOS.head()"
   ]
  },
  {
   "cell_type": "markdown",
   "metadata": {},
   "source": [
    "## Save DataFrames as CSV's"
   ]
  },
  {
   "cell_type": "code",
   "execution_count": null,
   "metadata": {},
   "outputs": [],
   "source": [
    "team_list = [ATL, BOS, CLE, NOP, CHI, DAL, \\\n",
    "             DEN, GSW, HOU, LAC, LAL, MIA, \\\n",
    "             MIL, MIN, BKN, NYK, ORL, IND, \\\n",
    "             PHI, PHX, POR, SAC, SAS, OKC, \\\n",
    "             TOR, UTA, MEM, WAS, DET, CHA]\n",
    "abbreviations = [team for team in team_id['abbreviation']]\n",
    "for team in team_list:\n",
    "    for abbr in abbreviation:\n",
    "        team.to_csv(f'../Resources/team_game_logs/2018-2019/{abbr}_game_log_1819.csv')"
   ]
  },
  {
   "cell_type": "code",
   "execution_count": null,
   "metadata": {},
   "outputs": [],
   "source": []
  }
 ],
 "metadata": {
  "kernelspec": {
   "display_name": "Python 3",
   "language": "python",
   "name": "python3"
  },
  "language_info": {
   "codemirror_mode": {
    "name": "ipython",
    "version": 3
   },
   "file_extension": ".py",
   "mimetype": "text/x-python",
   "name": "python",
   "nbconvert_exporter": "python",
   "pygments_lexer": "ipython3",
   "version": "3.6.8"
  }
 },
 "nbformat": 4,
 "nbformat_minor": 2
}
